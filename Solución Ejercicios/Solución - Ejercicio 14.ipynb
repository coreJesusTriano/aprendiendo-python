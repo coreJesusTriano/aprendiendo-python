{
 "cells": [
  {
   "cell_type": "markdown",
   "metadata": {},
   "source": [
    "# Ejercicio 14\n",
    "\n",
    "## Enunciado\n",
    "Crea un programa que:\n",
    "\n",
    "1. Obtenga los datos acerca del COVID-19 de [esta enlance](https://covid19.isciii.es/resources/serie_historica_acumulados.csv).\n",
    "2. Cree una gráfica con el total de casos acumulados en tu comunidad autónoma a nivel diarío de color **rojo**.\n",
    "\n",
    "## Extra\n",
    "3. Añada a la gráfica el total diario de España en color **azul**."
   ]
  },
  {
   "cell_type": "markdown",
   "metadata": {},
   "source": [
    "### ¿Qué cosas nuevas necesitamos saber?\n",
    "- Iterando sobre objetos. Las funciones **map()** y **filter()**.\n",
    "- Uso de fechas. El tipo **datetime()**.\n",
    "- Visualización de datos. La librería **matplotlib**."
   ]
  },
  {
   "cell_type": "markdown",
   "metadata": {},
   "source": [
    "### Iterando sobre objetos. Las funciones **map()** y **filter()**."
   ]
  },
  {
   "cell_type": "markdown",
   "metadata": {},
   "source": [
    "La función **map()** es aquella que dada una función y una colección de objetos, aplica esa función a cada elemento de la colección.\n",
    "\n",
    "No obstante, la función map no devuelve los resultados, si no que devueleve un iterador. Para obtener los resultados, deberemos de iterar sobre el iterador (valga la redundancia).\n",
    "\n",
    "Veamos unos ejemlos:"
   ]
  },
  {
   "cell_type": "code",
   "execution_count": 1,
   "metadata": {},
   "outputs": [],
   "source": [
    "numeros = [0, 1, 2, 3, 4, 5, 6, 7, 8, 9, 10] # definimos nuestra lista de ejemplo"
   ]
  },
  {
   "cell_type": "code",
   "execution_count": 2,
   "metadata": {},
   "outputs": [],
   "source": [
    "# y la función cuadrado, que dado un número, nos devuelve ese número al cuadrado\n",
    "def cuadrado(n):\n",
    "    return n*n"
   ]
  },
  {
   "cell_type": "code",
   "execution_count": 3,
   "metadata": {},
   "outputs": [],
   "source": [
    "# nos ayudamos de la función map para aplicar la función a todos los elementos\n",
    "numeros_al_cuadrado = map(cuadrado, numeros)"
   ]
  },
  {
   "cell_type": "code",
   "execution_count": 4,
   "metadata": {},
   "outputs": [
    {
     "name": "stdout",
     "output_type": "stream",
     "text": [
      "<map object at 0x05E18B30>\n"
     ]
    }
   ],
   "source": [
    "# como hemos comentado, esto no nos muestra los números, ya que para ello hemos de iterar sobre el resultado\n",
    "print(numeros_al_cuadrado)"
   ]
  },
  {
   "cell_type": "code",
   "execution_count": 5,
   "metadata": {},
   "outputs": [
    {
     "name": "stdout",
     "output_type": "stream",
     "text": [
      "0\n",
      "1\n",
      "4\n",
      "9\n",
      "16\n",
      "25\n",
      "36\n",
      "49\n",
      "64\n",
      "81\n",
      "100\n"
     ]
    }
   ],
   "source": [
    "# esto, en cambio, si lo hace\n",
    "for numero in numeros_al_cuadrado:\n",
    "    print(numero)"
   ]
  },
  {
   "cell_type": "markdown",
   "metadata": {},
   "source": [
    "Este comportamiento se debe a que la función map no calcula el resultado de aplicar la función a cada elemento de la colección hasta que no le es necesario hacerlo."
   ]
  },
  {
   "cell_type": "code",
   "execution_count": 6,
   "metadata": {},
   "outputs": [
    {
     "name": "stdout",
     "output_type": "stream",
     "text": [
      "[0, 1, 4, 9, 16, 25, 36, 49, 64, 81, 100]\n"
     ]
    }
   ],
   "source": [
    "# si necesitamos tener los datos calculados por algo en especial, podemos hacer lo siguiente\n",
    "numeros_al_cuadrado = list(map(cuadrado, numeros)) # usamos la conversión a list para que calcule cada elemento\n",
    "print(numeros_al_cuadrado)"
   ]
  },
  {
   "cell_type": "markdown",
   "metadata": {},
   "source": [
    "La función **filter()** es aquella que dada una función que devuelve un **bool** y una colección de objetos, filtra la colección para aquellos elementos cuya evaluación de la función es True.\n",
    "\n",
    "De igual manera que sucede con **map()**, necesitaremos iterar sobre el resultado para comprobar el resultado."
   ]
  },
  {
   "cell_type": "code",
   "execution_count": 7,
   "metadata": {},
   "outputs": [],
   "source": [
    "def es_par(n):\n",
    "    return n % 2 == 0"
   ]
  },
  {
   "cell_type": "code",
   "execution_count": 8,
   "metadata": {},
   "outputs": [],
   "source": [
    "pares = filter(es_par, numeros)"
   ]
  },
  {
   "cell_type": "code",
   "execution_count": 9,
   "metadata": {},
   "outputs": [
    {
     "name": "stdout",
     "output_type": "stream",
     "text": [
      "<filter object at 0x05E3FB10>\n"
     ]
    }
   ],
   "source": [
    "print(pares)"
   ]
  },
  {
   "cell_type": "code",
   "execution_count": 10,
   "metadata": {},
   "outputs": [
    {
     "name": "stdout",
     "output_type": "stream",
     "text": [
      "0\n",
      "2\n",
      "4\n",
      "6\n",
      "8\n",
      "10\n"
     ]
    }
   ],
   "source": [
    "for numero in pares:\n",
    "    print(numero)"
   ]
  },
  {
   "cell_type": "markdown",
   "metadata": {},
   "source": [
    "Hay que tener en cuenta que, en ambos casos, una vez terminada la iteración, no quedan elementos los que aplicar la función, por lo que si queremos hacer uso del elemento que hemos creado, habrá que calcularlo de nuevo.\n",
    "\n",
    "Ilustremos esto:"
   ]
  },
  {
   "cell_type": "code",
   "execution_count": 11,
   "metadata": {},
   "outputs": [],
   "source": [
    "# esto no va a hacer nada, porque ya imprimimos todos los pares antes\n",
    "for numero in pares:\n",
    "    print(numero)"
   ]
  },
  {
   "cell_type": "code",
   "execution_count": 12,
   "metadata": {},
   "outputs": [
    {
     "name": "stdout",
     "output_type": "stream",
     "text": [
      "0\n",
      "2\n",
      "4\n",
      "6\n",
      "8\n",
      "10\n"
     ]
    }
   ],
   "source": [
    "# en cambio, si lo recalculamos, entonces si:\n",
    "pares = filter(es_par, numeros)\n",
    "for numero in pares:\n",
    "    print(numero)"
   ]
  },
  {
   "cell_type": "markdown",
   "metadata": {},
   "source": [
    "### Uso de fechas. El tipo **datetime()**.\n",
    "\n",
    "El tipo datetime() nos permite crear objetos referentes a momentos en el tiempo. Para poder utilizarla, debemos importarla desde la libreria con el mismo nombre.\n",
    "\n",
    "Podemos generar momento a partir del constructor de la clase o a partir de textos, veamos como:"
   ]
  },
  {
   "cell_type": "code",
   "execution_count": 13,
   "metadata": {},
   "outputs": [],
   "source": [
    "# primero importamos la librería\n",
    "from datetime import datetime"
   ]
  },
  {
   "cell_type": "code",
   "execution_count": 14,
   "metadata": {},
   "outputs": [
    {
     "name": "stdout",
     "output_type": "stream",
     "text": [
      "2020-04-05 00:00:00 2020-04-04 00:00:00\n"
     ]
    }
   ],
   "source": [
    "date1 = datetime(year=2020, month=4, day=5, hour=0, minute=0, second=0)\n",
    "date2 = datetime(year=2020, month=4, day=4)\n",
    "print(date1, date2)"
   ]
  },
  {
   "cell_type": "markdown",
   "metadata": {},
   "source": [
    "Los distintos parámetros de la clase los podéis encontrar [aquí](https://docs.python.org/3/library/datetime.html#datetime.datetime)."
   ]
  },
  {
   "cell_type": "markdown",
   "metadata": {},
   "source": [
    "Además, tambien podemos crear objetos del tipo **datetime()** a partir del tipo **str()**.\n",
    "\n",
    "Veamos como:"
   ]
  },
  {
   "cell_type": "code",
   "execution_count": 15,
   "metadata": {},
   "outputs": [
    {
     "name": "stdout",
     "output_type": "stream",
     "text": [
      "<class 'datetime.datetime'> 2020-06-30 00:00:00\n"
     ]
    }
   ],
   "source": [
    "fecha_str = \"2020-06-30\"\n",
    "fecha = datetime.strptime(fecha_str, \"%Y-%m-%d\") # utilizamos la función strptime con el formato de nuestra fecha\n",
    "# para convertirlo a datetime\n",
    "print(type(fecha), fecha)"
   ]
  },
  {
   "cell_type": "markdown",
   "metadata": {},
   "source": [
    "En [este enlance](https://docs.python.org/3/library/datetime.html#strftime-strptime-behavior) podeís encontrar que simboliza cada % que se le pasa a la función strptime dentro del parámetro.\n",
    "\n",
    "En cualquier caso, veamos un par de ejemplos de conversión más:"
   ]
  },
  {
   "cell_type": "code",
   "execution_count": 16,
   "metadata": {},
   "outputs": [
    {
     "name": "stdout",
     "output_type": "stream",
     "text": [
      "2020-06-30 00:00:00\n",
      "2020-06-30 00:00:00\n",
      "2020-06-30 00:00:00\n",
      "2020-06-30 15:30:00\n"
     ]
    }
   ],
   "source": [
    "print(datetime.strptime(\"2020-06-30\", \"%Y-%m-%d\"))\n",
    "print(datetime.strptime(\"2020-30-06\", \"%Y-%d-%m\"))\n",
    "print(datetime.strptime(\"2020/30/06\", \"%Y/%d/%m\"))\n",
    "print(datetime.strptime(\"2020/06/30 15:30\", \"%Y/%m/%d %H:%M\"))"
   ]
  },
  {
   "cell_type": "markdown",
   "metadata": {},
   "source": [
    "### Visualización de datos. La librería **matplotlib**.\n",
    "\n",
    "Antes de poder utilizar la librería **matplotlib** debemos instalarla. Para ello, el comando es el siguiente:\n",
    "```console\n",
    "pip install -U matplotlib\n",
    "```\n",
    "\n",
    "**NOTA**: Recuerda ejecutar la consola como administrador en el caso de Windows o preceder el comando de **sudo** en el caso de Linux/MacOS."
   ]
  },
  {
   "cell_type": "code",
   "execution_count": 17,
   "metadata": {},
   "outputs": [],
   "source": [
    "# una vez instalada, realizaremos el siguiente import junto con la sentencia que vemos a continuación\n",
    "# para poder visualizar nuestros datos en el propio notebook\n",
    "from matplotlib import pyplot as plt\n",
    "%matplotlib inline"
   ]
  },
  {
   "cell_type": "markdown",
   "metadata": {},
   "source": [
    "Antes de comenzar, supongamos que queremos estudiar la rentabilidad de nuestro último móvil. Para ello veremos lo que nos habrá costado el movil cada día en función del tiempo que lo hayamos tenido. Para ello supondremos que el móvil nos costó 600 euros hace exactamente 730 días."
   ]
  },
  {
   "cell_type": "code",
   "execution_count": 18,
   "metadata": {},
   "outputs": [],
   "source": [
    "precio = 600\n",
    "dias_de_uso = 730"
   ]
  },
  {
   "cell_type": "code",
   "execution_count": 19,
   "metadata": {},
   "outputs": [],
   "source": [
    "# ahora crearemos los valores de los ejes X e Y\n",
    "x = range(1, dias_de_uso + 1) # para conocer el día que estamos utilizando como referencia\n",
    "y = [precio/dias for dias in x] # para calcular lo que nos ha costado el movil al día en función de los días que lo hemos usado"
   ]
  },
  {
   "cell_type": "code",
   "execution_count": 20,
   "metadata": {},
   "outputs": [
    {
     "data": {
      "image/png": "[encoded data removed]",
      "text/plain": [
       "<Figure size 936x432 with 1 Axes>"
      ]
     },
     "metadata": {
      "needs_background": "light"
     },
     "output_type": "display_data"
    }
   ],
   "source": [
    "# una vez creados nuestros datos, los mostraremos visualmente\n",
    "plt.figure(figsize=(13, 6)) # con esto determinamos el tamaño de nuestro gráfico\n",
    "plt.title(\"Curva de amortización de un móvil de 600 €\") # con esto añadimos título a nuestro gráfico\n",
    "plt.plot(x,y) # así añadimos los valores\n",
    "plt.show() # así mostramos el gráfico"
   ]
  },
  {
   "cell_type": "code",
   "execution_count": 21,
   "metadata": {},
   "outputs": [
    {
     "data": {
      "image/png": "[encoded data removed]",
      "text/plain": [
       "<Figure size 936x432 with 1 Axes>"
      ]
     },
     "metadata": {
      "needs_background": "light"
     },
     "output_type": "display_data"
    }
   ],
   "source": [
    "# Como podemos comprobar, debido a las escalas de los datos, apenas apreciamos nada\n",
    "# modifiquemos la escala del eje X para que en vez de ir de 1 en 1, vaya en potencias de 10\n",
    "plt.figure(figsize=(13, 6)) \n",
    "plt.title(\"Curva de amortización de un móvil de 600 €\")\n",
    "plt.plot(x,y) \n",
    "plt.xscale('log') # así ponemos nuestro gráfico en escala logarítmica\n",
    "plt.show()"
   ]
  },
  {
   "cell_type": "markdown",
   "metadata": {},
   "source": [
    "Como podemos comprobar, ahora observamos mucho mejor que la mayor amotización se realiza entre los días 1 y 10, ya que el precio por día pasa de 600 euros al día (1 día) a 60 euros al día (10 días).\n",
    "\n",
    "Podríamos ademas conocer la estimación del próximo año calculando los valores y añadiéndolos a nuestro gráfico en un color distinto.\n",
    "\n",
    "Veamos como:"
   ]
  },
  {
   "cell_type": "code",
   "execution_count": 22,
   "metadata": {},
   "outputs": [],
   "source": [
    "x2 = range(dias_de_uso + 1, dias_de_uso + 365 + 1)\n",
    "y2 = [precio/dias for dias in x2]"
   ]
  },
  {
   "cell_type": "code",
   "execution_count": 23,
   "metadata": {},
   "outputs": [
    {
     "data": {
      "image/png": "[encoded data removed]",
      "text/plain": [
       "<Figure size 936x432 with 1 Axes>"
      ]
     },
     "metadata": {
      "needs_background": "light"
     },
     "output_type": "display_data"
    }
   ],
   "source": [
    "# en vez de imprimir todos los valores de x e y, para poder obtener mayor detalle visual, imprimiremos solo los 100 últimos\n",
    "plt.figure(figsize=(13, 6)) \n",
    "plt.title(\"Curva de amortización de un móvil de 600 €\")\n",
    "plt.plot(x[-100:],y[-100:], color='blue', label='pasado') # añadimos la primera parte con color azul y etiquetada como pasado\n",
    "plt.plot(x2, y2, color='red', label='futuro')  # y la segunda de rojo como futuro\n",
    "plt.legend() # con esto añadimos la leyenda con los valores de label\n",
    "plt.xlabel(\"Días transcurridos\") # y así añadimos etiquetas a los ejes\n",
    "plt.ylabel(\"Precio por día\") # y así añadimos etiquetas a los ejes\n",
    "plt.show()"
   ]
  },
  {
   "cell_type": "markdown",
   "metadata": {},
   "source": [
    "Eso es todo, a por el ejercicio!"
   ]
  },
  {
   "cell_type": "markdown",
   "metadata": {},
   "source": [
    "## Solución"
   ]
  },
  {
   "cell_type": "code",
   "execution_count": 24,
   "metadata": {},
   "outputs": [],
   "source": [
    "import requests"
   ]
  },
  {
   "cell_type": "code",
   "execution_count": 25,
   "metadata": {},
   "outputs": [],
   "source": [
    "from datetime import datetime"
   ]
  },
  {
   "cell_type": "code",
   "execution_count": 26,
   "metadata": {},
   "outputs": [],
   "source": [
    "from matplotlib import pyplot as plt"
   ]
  },
  {
   "cell_type": "code",
   "execution_count": 27,
   "metadata": {},
   "outputs": [],
   "source": [
    "%matplotlib inline"
   ]
  },
  {
   "cell_type": "code",
   "execution_count": 28,
   "metadata": {},
   "outputs": [],
   "source": [
    "data = requests.get(\"https://covid19.isciii.es/resources/serie_historica_acumulados.csv\").text"
   ]
  },
  {
   "cell_type": "code",
   "execution_count": 29,
   "metadata": {},
   "outputs": [],
   "source": [
    "registros = data.splitlines()"
   ]
  },
  {
   "cell_type": "markdown",
   "metadata": {},
   "source": [
    "Analicemos que pinta tienen los datos:"
   ]
  },
  {
   "cell_type": "code",
   "execution_count": 30,
   "metadata": {},
   "outputs": [
    {
     "name": "stdout",
     "output_type": "stream",
     "text": [
      "CCAA Codigo ISO,Fecha,Casos ,Hospitalizados,UCI,Fallecidos,Recuperados,\n",
      "AN,20/02/2020,,,,,,\n",
      "AR,20/02/2020,,,,,,\n",
      "AS,20/02/2020,,,,,,\n",
      "IB,20/02/2020,1,,,,,\n"
     ]
    }
   ],
   "source": [
    "for reg in registros[:5]:\n",
    "    print(reg)"
   ]
  },
  {
   "cell_type": "code",
   "execution_count": 31,
   "metadata": {},
   "outputs": [
    {
     "name": "stdout",
     "output_type": "stream",
     "text": [
      "NC,05/04/2020,3231,1432,124,187,380,\n",
      "PV,05/04/2020,8810,4794,410,548,3568,\n",
      "RI,05/04/2020,2719,888,66,141,964,\n",
      "NOTA: El objetivo de los datos que se publican en esta web es saber el número de casos acumulados a la fecha y que por tanto no se puede deducir que la diferencia entre un día y el anterior es el número de casos nuevos ya que esos casos pueden haber sido recuperados de fechas anteriores Cualquier inferencia que se haga sobre las diferencias de un día para otro deben hacerse con precaución y son únicamente la responsabilidad el autor,,,,,,,\n",
      "Los datos de estas comunidades son datos de prevalencia (personas ingresadas a fecha de hoy) No reflejan el total de personas que han sido hospitalizadas o ingresadas en UCI  a lo largo del periodo de notificación(CL-CM-MD-VC-MC),,,\n"
     ]
    }
   ],
   "source": [
    "for reg in registros[-5:]:\n",
    "    print(reg)"
   ]
  },
  {
   "cell_type": "markdown",
   "metadata": {},
   "source": [
    "Vemos que hay texto al principio y al final de los datos, por lo que filtraremos aquellos registros que comienzan por un código de 2 letas."
   ]
  },
  {
   "cell_type": "code",
   "execution_count": 32,
   "metadata": {},
   "outputs": [],
   "source": [
    "def registro_valido(registro):\n",
    "    return len(registro.split(\",\")[0]) == 2\n",
    "\n",
    "real_data = list(filter(registro_valido, registros))"
   ]
  },
  {
   "cell_type": "markdown",
   "metadata": {},
   "source": [
    "Ahora creemos una función para adecuar los registros a lo que queramos:"
   ]
  },
  {
   "cell_type": "code",
   "execution_count": 33,
   "metadata": {},
   "outputs": [],
   "source": [
    "def format_reg(reg):\n",
    "    splitted = reg.split(\",\")\n",
    "    reg_as_dict = {\n",
    "        'ccaa': splitted[0],\n",
    "        'date': datetime.strptime(splitted[1], '%d/%m/%Y'),\n",
    "        'cases': int(splitted[2]) if splitted[2] else 0,\n",
    "        'in_hospital': int(splitted[3]) if splitted[3] else 0,\n",
    "        'in_UCI': int(splitted[4]) if splitted[4] else 0,\n",
    "        'deats': int(splitted[5]) if splitted[5] else 0,\n",
    "        'recovered': int(splitted[6]) if splitted[6] else 0\n",
    "    }\n",
    "    return reg_as_dict"
   ]
  },
  {
   "cell_type": "code",
   "execution_count": 34,
   "metadata": {},
   "outputs": [],
   "source": [
    "formatted_data = list(map(format_reg, real_data))"
   ]
  },
  {
   "cell_type": "markdown",
   "metadata": {},
   "source": [
    "Con los datos ya formateados, ya solo queda coger los registros de nuestra CCAA y pintarlos:"
   ]
  },
  {
   "cell_type": "code",
   "execution_count": 35,
   "metadata": {},
   "outputs": [],
   "source": [
    "my_ccaa = 'MD'"
   ]
  },
  {
   "cell_type": "code",
   "execution_count": 36,
   "metadata": {},
   "outputs": [],
   "source": [
    "def from_ccaa(reg):\n",
    "    return reg.get(\"ccaa\") == my_ccaa"
   ]
  },
  {
   "cell_type": "code",
   "execution_count": 37,
   "metadata": {},
   "outputs": [],
   "source": [
    "my_ccaa_data = list(filter(from_ccaa, formatted_data))"
   ]
  },
  {
   "cell_type": "code",
   "execution_count": 38,
   "metadata": {},
   "outputs": [],
   "source": [
    "x = [reg.get('date') for reg in my_ccaa_data]\n",
    "y = [reg.get('cases') for reg in my_ccaa_data]"
   ]
  },
  {
   "cell_type": "code",
   "execution_count": 39,
   "metadata": {},
   "outputs": [
    {
     "data": {
      "image/png": "[encoded data removed]",
      "text/plain": [
       "<Figure size 936x432 with 1 Axes>"
      ]
     },
     "metadata": {
      "needs_background": "light"
     },
     "output_type": "display_data"
    }
   ],
   "source": [
    "plt.figure(figsize=(13,6))\n",
    "plt.title(f\"Avance del COVID-19 en {my_ccaa}\")\n",
    "plt.xticks(rotation=45)\n",
    "plt.plot(x, y, color='red')\n",
    "plt.show()"
   ]
  },
  {
   "cell_type": "markdown",
   "metadata": {},
   "source": [
    "Ahora, para hacer el extra, crearemos una función que dada una seríe de registros, genera un diccionario con el total de casos acumulados por fecha.\n",
    "\n",
    "Para ello, primero inicializamos cada fecha a 0 casos para posteriormente ir sumando los que coincidan con la fecha en cuestión:"
   ]
  },
  {
   "cell_type": "code",
   "execution_count": 40,
   "metadata": {},
   "outputs": [],
   "source": [
    "def total(regs):\n",
    "    data = {reg.get('date'): 0 for reg in regs}\n",
    "    for reg in regs:\n",
    "        data[reg.get('date')] = data.get(reg.get('date')) + reg.get('cases')\n",
    "    return data"
   ]
  },
  {
   "cell_type": "code",
   "execution_count": 41,
   "metadata": {},
   "outputs": [],
   "source": [
    "spain_data = total(formatted_data)"
   ]
  },
  {
   "cell_type": "code",
   "execution_count": 42,
   "metadata": {},
   "outputs": [],
   "source": [
    "x2, y2 = list(spain_data.keys()), list(spain_data.values())"
   ]
  },
  {
   "cell_type": "code",
   "execution_count": 43,
   "metadata": {},
   "outputs": [
    {
     "data": {
      "image/png": "[encoded data removed]",
      "text/plain": [
       "<Figure size 936x432 with 1 Axes>"
      ]
     },
     "metadata": {
      "needs_background": "light"
     },
     "output_type": "display_data"
    }
   ],
   "source": [
    "plt.figure(figsize=(13,6))\n",
    "plt.title(f\"Avance del COVID-19\")\n",
    "plt.xticks(rotation=45)\n",
    "plt.plot(x, y, color='red', label=my_ccaa)\n",
    "plt.plot(x2, y2, color='blue', label=\"Spain\")\n",
    "plt.legend()\n",
    "plt.show()"
   ]
  },
  {
   "cell_type": "code",
   "execution_count": null,
   "metadata": {},
   "outputs": [],
   "source": []
  }
 ],
 "metadata": {
  "kernelspec": {
   "display_name": "Python 3",
   "language": "python",
   "name": "python3"
  },
  "language_info": {
   "codemirror_mode": {
    "name": "ipython",
    "version": 3
   },
   "file_extension": ".py",
   "mimetype": "text/x-python",
   "name": "python",
   "nbconvert_exporter": "python",
   "pygments_lexer": "ipython3",
   "version": "3.7.2"
  }
 },
 "nbformat": 4,
 "nbformat_minor": 4
}
