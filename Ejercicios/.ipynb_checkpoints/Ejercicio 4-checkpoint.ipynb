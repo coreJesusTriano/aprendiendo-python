{
 "cells": [
  {
   "cell_type": "markdown",
   "metadata": {},
   "source": [
    "# Ejercicio 4\n",
    "\n",
    "## Enunciado\n",
    "Crea un programa que:\n",
    "\n",
    "1. Pida al usuario un número por pantalla.\n",
    "2. Calcule todos los divisores de ese número y los muestre por pantalla en formato lista [].\n",
    "3. Calcule solo los divisores pares de ese número y los muestre en el mismo formato.\n",
    "\n",
    "Extras:\n",
    "\n",
    "3. Haz ambos ejercicios en una sola linea incluido el print() y, para el segundo de ellos, obten el resultado correcto sin comprobar si el número es par."
   ]
  },
  {
   "cell_type": "markdown",
   "metadata": {},
   "source": [
    "### ¿Qué cosas nuevas necesitamos saber?\n",
    "- La función **range()**.\n",
    "- ***List Comprehension***."
   ]
  },
  {
   "cell_type": "markdown",
   "metadata": {},
   "source": [
    "Veamos ejemplos de ambos objetivos:"
   ]
  },
  {
   "cell_type": "markdown",
   "metadata": {},
   "source": [
    "### La función **range()**.\n",
    "\n",
    "La función range() es la función que, dado un número **natural**, devuelve todos* sus anteriores.\n",
    "\n",
    "(\\*) Veremos a continuación que hay maneras de ejecutar esta función de tal manera que no son todos los números si no un subconjunto de ellos:"
   ]
  },
  {
   "cell_type": "code",
   "execution_count": 1,
   "metadata": {},
   "outputs": [],
   "source": [
    "x = 10 # definamos nuestra variable"
   ]
  },
  {
   "cell_type": "code",
   "execution_count": 2,
   "metadata": {},
   "outputs": [
    {
     "name": "stdout",
     "output_type": "stream",
     "text": [
      "range(0, 10)\n"
     ]
    }
   ],
   "source": [
    "# Veamos que pasa si hacemos un print del range aplicado a esa variable:\n",
    "print(range(x))"
   ]
  },
  {
   "cell_type": "markdown",
   "metadata": {},
   "source": [
    "Como podemos comprobar, esto no devuelve los valores en si, si no un rango de valores. Para obtener los valores, deberemos iterar sobre dicho rango."
   ]
  },
  {
   "cell_type": "code",
   "execution_count": 3,
   "metadata": {},
   "outputs": [
    {
     "name": "stdout",
     "output_type": "stream",
     "text": [
      "[0, 1, 2, 3, 4, 5, 6, 7, 8, 9]\n"
     ]
    }
   ],
   "source": [
    "numeros_en_range_x = []\n",
    "for numero in range(x):\n",
    "    numeros_en_range_x.append(numero)\n",
    "print(numeros_en_range_x)"
   ]
  },
  {
   "cell_type": "markdown",
   "metadata": {},
   "source": [
    "Ahora, si, tenemos todos los números anteriores a **x** (que en este caso era 10). Veamos las distintas maneras de ejecutar la función range."
   ]
  },
  {
   "cell_type": "code",
   "execution_count": 4,
   "metadata": {},
   "outputs": [],
   "source": [
    "r1 = range(x) # esta es la que acabamos de ver, y devuelve todos los números desde el 0 al x-1\n",
    "r2 = range(3, x) # cuando a la función range le pasamos dos números, le indicamos donde queremos que comience,\n",
    "# por lo tanto esto devolvera los valores desde el 3 al x-1\n",
    "r3 = range(5, x, 2) # el tercer parámetro sirve para indicar el salto de los valores.\n",
    "# En nuestro caso en particular este rango estara compuesto por los valores [5, 7, 9]"
   ]
  },
  {
   "cell_type": "markdown",
   "metadata": {},
   "source": [
    "Comprobemos lo indicado:"
   ]
  },
  {
   "cell_type": "code",
   "execution_count": 5,
   "metadata": {},
   "outputs": [
    {
     "name": "stdout",
     "output_type": "stream",
     "text": [
      "l1: [0, 1, 2, 3, 4, 5, 6, 7, 8, 9]\n",
      "l2: [3, 4, 5, 6, 7, 8, 9]\n",
      "l3: [5, 7, 9]\n"
     ]
    }
   ],
   "source": [
    "l1, l2, l3 = [], [], [] # esta es una manera de asignar valores a varias variables a la vez\n",
    "for numero in r1:\n",
    "    l1.append(numero)\n",
    "for numero in r2:\n",
    "    l2.append(numero)\n",
    "for numero in r3:\n",
    "    l3.append(numero)\n",
    "print(\"l1:\", l1)\n",
    "print(\"l2:\", l2)\n",
    "print(\"l3:\", l3)"
   ]
  },
  {
   "cell_type": "markdown",
   "metadata": {},
   "source": [
    "### List Comprehension.\n",
    "\n",
    "Esto no es nada más y nada menos que la manera de generar una lista iterando sobre un bucle en una única línea. De manera adicional, se pueden añadir condicionante para discriminar elementos de la lista.\n",
    "\n",
    "Veamos algún ejemplo:"
   ]
  },
  {
   "cell_type": "code",
   "execution_count": 6,
   "metadata": {},
   "outputs": [
    {
     "name": "stdout",
     "output_type": "stream",
     "text": [
      "[0, 1, 2, 3, 4, 5, 6, 7, 8, 9]\n"
     ]
    }
   ],
   "source": [
    "# así obtenemos los valores de range(x) en una sola linea\n",
    "l1 = [numero for numero in r1]\n",
    "# comprobémoslo\n",
    "print(l1)"
   ]
  },
  {
   "cell_type": "code",
   "execution_count": 9,
   "metadata": {},
   "outputs": [
    {
     "name": "stdout",
     "output_type": "stream",
     "text": [
      "l5: [0, 5, 10, 15, 20, 25, 30, 35, 40, 45]\n",
      "------------------------------------------\n",
      "0\n",
      "5\n",
      "10\n",
      "15\n",
      "20\n",
      "25\n",
      "30\n",
      "35\n",
      "40\n",
      "45\n"
     ]
    }
   ],
   "source": [
    "# también podemos realizar un cálculo o aplicar una función sobre los elementos\n",
    "\n",
    "# así obtenemos los valores de range(x) múltiplicados por 5 en una sola línea\n",
    "l5 = [numero * 5 for numero in r1]\n",
    "# véamoslo\n",
    "print(\"l5:\", l5)\n",
    "\n",
    "print(\"------------------------------------------\")\n",
    "\n",
    "# así imprimimos cada valor de range(x) múltiplicado por 5 en una sola línea\n",
    "_ = [print(numero * 5) for numero in r1]"
   ]
  },
  {
   "cell_type": "code",
   "execution_count": 10,
   "metadata": {},
   "outputs": [
    {
     "name": "stdout",
     "output_type": "stream",
     "text": [
      "[5, 6, 7, 8, 9]\n"
     ]
    }
   ],
   "source": [
    "# además podemos filtrar los valores que no queramos de la siguiente manera\n",
    "lf = [numero for numero in r1 if numero >= 5]\n",
    "print(lf)"
   ]
  },
  {
   "cell_type": "markdown",
   "metadata": {},
   "source": [
    "**NOTA**: Ponemos **_** cuando no queremos guardar el resultado en una variable. También puede no ponerse nada, pero entonces Jupyter muestra por pantalla el valor que devuelve la función **print()** y como pasa con **append()** el valor es None, ya que estas funciones no devuelven nada, solo realizan una acción (y quedaba feo)."
   ]
  },
  {
   "cell_type": "markdown",
   "metadata": {},
   "source": [
    "## Solución"
   ]
  },
  {
   "cell_type": "markdown",
   "metadata": {},
   "source": [
    "Nos toca, además de seguir aprendiendo, empezar a pensar los pasos por nostros mismos. No obstante, para que podáis saber si el formato de vuestras respuestas es el que se pide, os dejo los resultados que deberían de salir en caso de que vuesto número elegido (por ejemplo) fuese el 20.\n",
    "\n",
    "- Resultados del ejercicio: [1, 2, 4, 5, 10, 20] y [2, 4, 10, 20]\n",
    "\n",
    "## Enunciado\n",
    "Crea un programa que:\n",
    "\n",
    "1. Pida al usuario un número por pantalla.\n",
    "2. Calcule todos los divisores de ese número y los muestre por pantalla en formato lista [].\n",
    "3. Calcule solo los divisores pares de ese número y los muestre en el mismo formato.\n",
    "\n",
    "Extras:\n",
    "\n",
    "3. Haz ambos ejercicios en una sola linea incluido el print() y, para el segundo de ellos, obten el resultado correcto sin comprobar si el número es par."
   ]
  },
  {
   "cell_type": "code",
   "execution_count": 22,
   "metadata": {},
   "outputs": [
    {
     "name": "stdin",
     "output_type": "stream",
     "text": [
      "Introduce un número natural:  20\n"
     ]
    }
   ],
   "source": [
    "x = int(input(\"Introduce un número natural: \"))"
   ]
  },
  {
   "cell_type": "code",
   "execution_count": 23,
   "metadata": {},
   "outputs": [
    {
     "name": "stdout",
     "output_type": "stream",
     "text": [
      "[1, 2, 4, 5, 10, 20] y [2, 4, 10, 20]\n"
     ]
    }
   ],
   "source": [
    "print([numero for numero in range(1,x+1) if x%numero==0], \"y\",[numero for numero in range(2,x+1,2) if x%numero==0])"
   ]
  }
 ],
 "metadata": {
  "kernelspec": {
   "display_name": "Python 3",
   "language": "python",
   "name": "python3"
  },
  "language_info": {
   "codemirror_mode": {
    "name": "ipython",
    "version": 3
   },
   "file_extension": ".py",
   "mimetype": "text/x-python",
   "name": "python",
   "nbconvert_exporter": "python",
   "pygments_lexer": "ipython3",
   "version": "3.6.9"
  }
 },
 "nbformat": 4,
 "nbformat_minor": 4
}
