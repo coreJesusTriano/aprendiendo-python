{
 "cells": [
  {
   "cell_type": "markdown",
   "metadata": {},
   "source": [
    "### ¿Qué es una variable y cómo le asigno un valor?\n",
    "Una variable es un espacio reservado en la memoria del programa con la finalidad de preservar un valor determinado en la misma mientras la ejecuón de nuestro código este en curso.\n",
    "\n",
    "Para asignarle un valor, tan solo nos tenemos que valer del operador '=' como se detalla en el siguiente ejemplo:\n",
    "\n",
    "```python\n",
    "# Esto asigna el valor 3 a la variable x\n",
    "x = 3\n",
    "```\n",
    "\n",
    "### Las funciones *input() print()* y *type()*\n",
    "- La función *input()* es el método que nos permite introducir al programa un valor desde nuestro teclado y, si lo deseamos, asignárselo a una variable. input() devuelve una cadena de caracteres 'str'\n",
    "```python\n",
    "x = input(\"Escribe lo que te apetezca: \") \n",
    "# de esta manera le pedimos al usuario que introduza un valor mediante el teclado y que lo almacene \n",
    "# en la variable x. El texto introducido entre los paréntesis ha de ir entrecomillado y será el mensaje \n",
    "# que el usuario vea en la pantalla\n",
    "```\n",
    "- La función *print()* es el método que, dada una variable, nos muestra por pantalla su valor.\n",
    "\n",
    "\n",
    "- La función *type()* es el método que, dada una variable, nos indica cual es su tipo.\n",
    "```python\n",
    "numero = 3 # así es como se crea una variable cuyo nombre es numero y su valor es el número entero 3\n",
    "type(numero) # así es como comprobamos que el valor de la variable numero es del tipo int\n",
    "```\n",
    "`int`\n",
    "```python\n",
    "palabra = \"helado\" # así es como se crea una variable cuyo nombre es palabra y su valor es la palabra \"helado\"\n",
    "type(palabra) # y, de manera análoga, así es como comprobamos que la variable palabra se trata de un str\n",
    "```\n",
    "`str`\n",
    "\n",
    "### Tipos de variables\n",
    "A continuación veremos dos de los pricipales tipos de variables que existen en Python:\n",
    "- str: Hace referencia a cadenas de texto como pudieran ser \"Juan\" o \"Ayer me comí un helado\"\n",
    "- int: Hace referencia a números enteros, como pudieran ser los números -317, 0, 4 ó 5322\n",
    "\n",
    "### Conversiones de tipos y Operaciones binarias\n",
    "Ya solo nos queda una cosa antes de empezar y se trata de diferenciar los tipos de las variables así como adecuarlos a nuestros requerimientos.\n",
    "\n",
    "Por ejemplo, mientras que _3_ es un valor de tipo **int** _\"3\"_ es un valor de tipo **str** que representa al número 3.\n",
    "\n",
    "Ilustremos esto cón código:\n",
    "```python\n",
    "y = 3 # este es un entero\n",
    "z = \"3\" # este es un str\n",
    "type(y) # comprobamos el tipo de y\n",
    "```\n",
    "`int`\n",
    "```python\n",
    "type(z) # comprobamos el tipo de z\n",
    "```\n",
    "`str`\n",
    "```python\n",
    "print(3 * int(z)) # convertimos a numero entero \"3\"\n",
    "print(\"4\" + str(y)) # convertimos a string 3\n",
    "```\n",
    "`9`\n",
    "`43`\n",
    "\n"
   ]
  },
  {
   "cell_type": "code",
   "execution_count": 13,
   "metadata": {},
   "outputs": [
    {
     "name": "stdout",
     "output_type": "stream",
     "text": [
      "9\n",
      "43\n"
     ]
    }
   ],
   "source": [
    "y = 3 # este es un entero\n",
    "z = \"3\" # este es un str\n",
    "type(y) # comprobamos el tipo de y\n",
    "type(z) # comprobamos el tipo de z\n",
    "print(3 * int(z)) # 9\n",
    "print(\"4\" + str(y)) # 43"
   ]
  },
  {
   "cell_type": "markdown",
   "metadata": {},
   "source": [
    "### El uso de sentencias condicionantes simples (if-else) y encadenadas (if-elif-else)\n",
    "\n",
    "Solo falta comprender los condicionates\n",
    "- Los simples constan de una cláusula if, que evalua un objeto de tipo bool, y de manera opcional, una cláusula else, que se ejecuta si y solo si no se ejecuta la cláusula if.\n",
    "- Los encadenados funcionan de manera similar intercalando la cláusula elif (conjunción de else-if) tantas veces como se precise. Se evalúan en orden y en caso de que una condición se cumpla no se evalúan las demás.\n",
    "\n",
    "Para que Python pueda interpretar correctamente que depende de la condición y que no, se ha de tabular el código con una tabulación o cuatro (4) espacios y cada evaluación de la condición debe terminar en dos puntos (:)\n",
    "\n",
    "Veamos:"
   ]
  },
  {
   "cell_type": "code",
   "execution_count": 8,
   "metadata": {},
   "outputs": [
    {
     "name": "stdout",
     "output_type": "stream",
     "text": [
      "Es 3\n"
     ]
    }
   ],
   "source": [
    "# primero, declaremos algunas variables para ilustrar nuestros ejemplos\n",
    "u = 1\n",
    "d = 2\n",
    "t = 3\n",
    "if u == t:\n",
    "    print(\"Es 1\")\n",
    "elif d == t:\n",
    "    print(\"Es 2\")\n",
    "elif t == t:\n",
    "    print(\"Es 3\") # esto imprime \"Es 3\" porque la primera condición y la segunda no se cumplen pero la 3a si\n",
    "else:\n",
    "    print(\"No se\")"
   ]
  },
  {
   "cell_type": "markdown",
   "metadata": {},
   "source": [
    "## El tipo list.\n",
    "\n",
    "El tipo *list*, como su propio nombre indica, es el tipo que da nombre a las listas (arrays en otros lenguajes) de otros tipos. Cada elemento de la lista puede ser de un tipo diferente, pero, por lo general, no suele ser algo corriente de ver.\n"
   ]
  },
  {
   "cell_type": "code",
   "execution_count": 1,
   "metadata": {},
   "outputs": [],
   "source": [
    "x = [1, \"2\", True] # esto es una lista de 3 elementos. Un int, un str y un bool\n",
    "y = [1, 2, 3, 4, 5] # esto es una lista de 5 elementos. Todos ellos de tipo int\n",
    "z = [] # esto es una lista vacia"
   ]
  },
  {
   "cell_type": "markdown",
   "metadata": {},
   "source": [
    "Para añadir elementos a una lista o array podemos usar el método .append() pasando como parámetro el elemento a añadir. append() no devuelve nada \"none\"."
   ]
  },
  {
   "cell_type": "code",
   "execution_count": 2,
   "metadata": {},
   "outputs": [],
   "source": [
    "# Añadamos un elemento a z\n",
    "z.append(\"hola\")"
   ]
  },
  {
   "cell_type": "markdown",
   "metadata": {},
   "source": [
    "## print()\n",
    "Para mostrar datos o textos por pantalla podemos usar la función print(), la cuál admite comas para separar parámetros a mostrar de distinto tipo. Todos los parametros se mostrarán por pantalla como una concatenación de carácteres."
   ]
  },
  {
   "cell_type": "code",
   "execution_count": 3,
   "metadata": {},
   "outputs": [
    {
     "name": "stdout",
     "output_type": "stream",
     "text": [
      "Estos son los valores de x: [1, '2', True]\n",
      "Estos son los valores de y: [1, 2, 3, 4, 5]\n",
      "Estos son los valores de z: ['hola']\n"
     ]
    }
   ],
   "source": [
    "# Como sucede con el resto de tipo que hemos visto hasta hora, podemos realizar un print para\n",
    "# comprobar su contenido\n",
    "print(\"Estos son los valores de x:\", x)\n",
    "print(\"Estos son los valores de y:\", y)\n",
    "print(\"Estos son los valores de z:\", z)"
   ]
  },
  {
   "cell_type": "markdown",
   "metadata": {},
   "source": [
    "### El resto de operadores de comparación.\n",
    "\n",
    "En el ejercicio anterior vimos el operador ==, que devolvía _True_ si la parte izquierda del comparador (A) era **igual** a la derecha (B).\n",
    "\n",
    "Aquí tenéis la lista de todos, para que decidaís cual es el que tenéis que usar en este ejercicio:\n",
    "- **==**: Devuelve True si A es **igual** a B.\n",
    "- **!=**: Devuelve True si A es **distinto** de B.\n",
    "- **>=**: Devuelve True si A es **mayor o igual** a B.\n",
    "- **>**: Devuelve True si A es **mayor** a B.\n",
    "- **<=**: Devuelve True si A es **menor o igual** a B.\n",
    "- **<**: Devuelve True si A es **menor** a B.\n",
    "\n",
    "Veamos ejemplos:\n"
   ]
  },
  {
   "cell_type": "code",
   "execution_count": 6,
   "metadata": {},
   "outputs": [
    {
     "name": "stdout",
     "output_type": "stream",
     "text": [
      "True\n",
      "False\n",
      "True\n",
      "False\n",
      "True\n",
      "False\n"
     ]
    }
   ],
   "source": [
    "# ==\n",
    "print(1 == 1) # esto es verdad.\n",
    "# !=\n",
    "# Como estamos comprobando lo contrario, el resultado será al revés que antes\n",
    "print(1 != 1) # esto es falso\n",
    "# >=\n",
    "print(1 >= 1) # esto es verdad.\n",
    "# >\n",
    "print(1 > 1) # esto es mentira \"falso\".\n",
    "# <=\n",
    "print(1 <= 1) # esto es verdad.\n",
    "# <\n",
    "print(1 < 1) # esto es falso."
   ]
  },
  {
   "cell_type": "markdown",
   "metadata": {},
   "source": [
    "### El uso de bucles de tipo **for**.\n",
    "\n",
    "Esto es lo último que aprenderemos hoy, y es una de las maneras que tenemos de recorrer objetos en cuyo contenido puede ser más de un elemento por la naturaleza de su tipo, como en este caso, las listas.\n",
    "\n",
    "Para ello usaremos la siguiente sintaxis:\n",
    "\n",
    "```python\n",
    "for elemento in lista:\n",
    "    print(elemento)\n",
    "```\n",
    "\n",
    "Donde **elemento** es el nombre _temporal_ de nuestra variable donde recuperamos el valor del elemento de la lista actual y **lista** nuestra variable con un objeto de tipo list.\n",
    "\n",
    "Como podeís comprobar, es igual de necesario  añadir los dos puntos al final de nuestra variable y tabular el bloque de código que se ejecuta en bucle para que python sepa que todo ese código se ha de ejecutar tantas veces como elementos haya en la lista.\n",
    "\n",
    "En este caso hemos utilizado la función **print()** dentro del bucle pero podemos realizar cualquier fragmento de código que deseemos.\n",
    "\n",
    "Veamos un par de ejemplos sobre nuestras variables **x** e **y**:"
   ]
  },
  {
   "cell_type": "code",
   "execution_count": 7,
   "metadata": {},
   "outputs": [
    {
     "name": "stdout",
     "output_type": "stream",
     "text": [
      "1\n",
      "2\n",
      "True\n"
     ]
    }
   ],
   "source": [
    "for objeto in x: # x = [1, \"2\", True]\n",
    "    print(objeto)"
   ]
  },
  {
   "cell_type": "code",
   "execution_count": null,
   "metadata": {},
   "outputs": [],
   "source": []
  }
 ],
 "metadata": {
  "kernelspec": {
   "display_name": "Python 3",
   "language": "python",
   "name": "python3"
  },
  "language_info": {
   "codemirror_mode": {
    "name": "ipython",
    "version": 3
   },
   "file_extension": ".py",
   "mimetype": "text/x-python",
   "name": "python",
   "nbconvert_exporter": "python",
   "pygments_lexer": "ipython3",
   "version": "3.6.9"
  }
 },
 "nbformat": 4,
 "nbformat_minor": 4
}
