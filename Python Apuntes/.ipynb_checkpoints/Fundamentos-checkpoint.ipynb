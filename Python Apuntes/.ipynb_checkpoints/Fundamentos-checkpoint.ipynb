{
 "cells": [
  {
   "cell_type": "markdown",
   "metadata": {},
   "source": [
    "### ¿Qué es una variable y cómo le asigno un valor?\n",
    "Una variable es un espacio reservado en la memoria del programa con la finalidad de preservar un valor determinado en la misma mientras la ejecuón de nuestro código este en curso.\n",
    "\n",
    "Para asignarle un valor, tan solo nos tenemos que valer del operador '=' como se detalla en el siguiente ejemplo:\n",
    "\n",
    "```python\n",
    "# Esto asigna el valor 3 a la variable x\n",
    "x = 3\n",
    "```\n",
    "\n",
    "### Las funciones *input() print()* y *type()*\n",
    "- La función *input()* es el método que nos permite introducir al programa un valor desde nuestro teclado y, si lo deseamos, asignárselo a una variable. input() devuelve una cadena de caracteres 'str'\n",
    "```python\n",
    "x = input(\"Escribe lo que te apetezca: \") \n",
    "# de esta manera le pedimos al usuario que introduza un valor mediante el teclado y que lo almacene \n",
    "# en la variable x. El texto introducido entre los paréntesis ha de ir entrecomillado y será el mensaje \n",
    "# que el usuario vea en la pantalla\n",
    "```\n",
    "- La función *print()* es el método que, dada una variable, nos muestra por pantalla su valor.\n",
    "\n",
    "\n",
    "- La función *type()* es el método que, dada una variable, nos indica cual es su tipo.\n",
    "```python\n",
    "numero = 3 # así es como se crea una variable cuyo nombre es numero y su valor es el número entero 3\n",
    "type(numero) # así es como comprobamos que el valor de la variable numero es del tipo int\n",
    "```\n",
    "`int`\n",
    "```python\n",
    "palabra = \"helado\" # así es como se crea una variable cuyo nombre es palabra y su valor es la palabra \"helado\"\n",
    "type(palabra) # y, de manera análoga, así es como comprobamos que la variable palabra se trata de un str\n",
    "```\n",
    "`str`\n",
    "\n",
    "### Tipos de variables\n",
    "A continuación veremos dos de los pricipales tipos de variables que existen en Python:\n",
    "- str: Hace referencia a cadenas de texto como pudieran ser \"Juan\" o \"Ayer me comí un helado\"\n",
    "- int: Hace referencia a números enteros, como pudieran ser los números -317, 0, 4 ó 5322\n",
    "\n",
    "### Conversiones de tipos y Operaciones binarias\n",
    "Ya solo nos queda una cosa antes de empezar y se trata de diferenciar los tipos de las variables así como adecuarlos a nuestros requerimientos.\n",
    "\n",
    "Por ejemplo, mientras que _3_ es un valor de tipo **int** _\"3\"_ es un valor de tipo **str** que representa al número 3.\n",
    "\n",
    "Ilustremos esto cón código:\n",
    "```python\n",
    "y = 3 # este es un entero\n",
    "z = \"3\" # este es un str\n",
    "type(y) # comprobamos el tipo de y\n",
    "```\n",
    "`int`\n",
    "```python\n",
    "type(z) # comprobamos el tipo de z\n",
    "```\n",
    "`str`\n",
    "```python\n",
    "print(3 * int(z)) # convertimos a numero entero \"3\"\n",
    "print(\"4\" + str(y)) # convertimos a string 3\n",
    "```\n",
    "`9`\n",
    "`43`\n",
    "\n"
   ]
  },
  {
   "cell_type": "code",
   "execution_count": 13,
   "metadata": {},
   "outputs": [
    {
     "name": "stdout",
     "output_type": "stream",
     "text": [
      "9\n",
      "43\n"
     ]
    }
   ],
   "source": [
    "y = 3 # este es un entero\n",
    "z = \"3\" # este es un str\n",
    "type(y) # comprobamos el tipo de y\n",
    "type(z) # comprobamos el tipo de z\n",
    "print(3 * int(z)) # 9\n",
    "print(\"4\" + str(y)) # 43"
   ]
  },
  {
   "cell_type": "markdown",
   "metadata": {},
   "source": [
    "### El uso de sentencias condicionantes simples (if-else) y encadenadas (if-elif-else)\n",
    "\n",
    "Solo falta comprender los condicionates\n",
    "- Los simples constan de una cláusula if, que evalua un objeto de tipo bool, y de manera opcional, una cláusula else, que se ejecuta si y solo si no se ejecuta la cláusula if.\n",
    "- Los encadenados funcionan de manera similar intercalando la cláusula elif (conjunción de else-if) tantas veces como se precise. Se evalúan en orden y en caso de que una condición se cumpla no se evalúan las demás.\n",
    "\n",
    "Para que Python pueda interpretar correctamente que depende de la condición y que no, se ha de tabular el código con una tabulación o cuatro (4) espacios y cada evaluación de la condición debe terminar en dos puntos (:)\n",
    "\n",
    "Veamos:"
   ]
  },
  {
   "cell_type": "code",
   "execution_count": 8,
   "metadata": {},
   "outputs": [
    {
     "name": "stdout",
     "output_type": "stream",
     "text": [
      "Es 3\n"
     ]
    }
   ],
   "source": [
    "# primero, declaremos algunas variables para ilustrar nuestros ejemplos\n",
    "u = 1\n",
    "d = 2\n",
    "t = 3\n",
    "if u == t:\n",
    "    print(\"Es 1\")\n",
    "elif d == t:\n",
    "    print(\"Es 2\")\n",
    "elif t == t:\n",
    "    print(\"Es 3\") # esto imprime \"Es 3\" porque la primera condición y la segunda no se cumplen pero la 3a si\n",
    "else:\n",
    "    print(\"No se\")"
   ]
  },
  {
   "cell_type": "markdown",
   "metadata": {},
   "source": [
    "## El tipo list.\n",
    "\n",
    "El tipo *list*, como su propio nombre indica, es el tipo que da nombre a las listas (arrays en otros lenguajes) de otros tipos. Cada elemento de la lista puede ser de un tipo diferente, pero, por lo general, no suele ser algo corriente de ver.\n"
   ]
  },
  {
   "cell_type": "code",
   "execution_count": 1,
   "metadata": {},
   "outputs": [],
   "source": [
    "x = [1, \"2\", True] # esto es una lista de 3 elementos. Un int, un str y un bool\n",
    "y = [1, 2, 3, 4, 5] # esto es una lista de 5 elementos. Todos ellos de tipo int\n",
    "z = [] # esto es una lista vacia"
   ]
  },
  {
   "cell_type": "markdown",
   "metadata": {},
   "source": [
    "Para añadir elementos a una lista o array podemos usar el método .append() pasando como parámetro el elemento a añadir. append() no devuelve nada \"none\"."
   ]
  },
  {
   "cell_type": "code",
   "execution_count": 2,
   "metadata": {},
   "outputs": [],
   "source": [
    "# Añadamos un elemento a z\n",
    "z.append(\"hola\")"
   ]
  },
  {
   "cell_type": "markdown",
   "metadata": {},
   "source": [
    "## print()\n",
    "Para mostrar datos o textos por pantalla podemos usar la función print(), la cuál admite comas para separar parámetros a mostrar de distinto tipo. Todos los parametros se mostrarán por pantalla como una concatenación de carácteres."
   ]
  },
  {
   "cell_type": "code",
   "execution_count": 3,
   "metadata": {},
   "outputs": [
    {
     "name": "stdout",
     "output_type": "stream",
     "text": [
      "Estos son los valores de x: [1, '2', True]\n",
      "Estos son los valores de y: [1, 2, 3, 4, 5]\n",
      "Estos son los valores de z: ['hola']\n"
     ]
    }
   ],
   "source": [
    "# Como sucede con el resto de tipo que hemos visto hasta hora, podemos realizar un print para\n",
    "# comprobar su contenido\n",
    "print(\"Estos son los valores de x:\", x)\n",
    "print(\"Estos son los valores de y:\", y)\n",
    "print(\"Estos son los valores de z:\", z)"
   ]
  },
  {
   "cell_type": "markdown",
   "metadata": {},
   "source": [
    "### El resto de operadores de comparación.\n",
    "\n",
    "En el ejercicio anterior vimos el operador ==, que devolvía _True_ si la parte izquierda del comparador (A) era **igual** a la derecha (B).\n",
    "\n",
    "Aquí tenéis la lista de todos, para que decidaís cual es el que tenéis que usar en este ejercicio:\n",
    "- **==**: Devuelve True si A es **igual** a B.\n",
    "- **!=**: Devuelve True si A es **distinto** de B.\n",
    "- **>=**: Devuelve True si A es **mayor o igual** a B.\n",
    "- **>**: Devuelve True si A es **mayor** a B.\n",
    "- **<=**: Devuelve True si A es **menor o igual** a B.\n",
    "- **<**: Devuelve True si A es **menor** a B.\n",
    "\n",
    "Veamos ejemplos:\n"
   ]
  },
  {
   "cell_type": "code",
   "execution_count": 6,
   "metadata": {},
   "outputs": [
    {
     "name": "stdout",
     "output_type": "stream",
     "text": [
      "True\n",
      "False\n",
      "True\n",
      "False\n",
      "True\n",
      "False\n"
     ]
    }
   ],
   "source": [
    "# ==\n",
    "print(1 == 1) # esto es verdad.\n",
    "# !=\n",
    "# Como estamos comprobando lo contrario, el resultado será al revés que antes\n",
    "print(1 != 1) # esto es falso\n",
    "# >=\n",
    "print(1 >= 1) # esto es verdad.\n",
    "# >\n",
    "print(1 > 1) # esto es mentira \"falso\".\n",
    "# <=\n",
    "print(1 <= 1) # esto es verdad.\n",
    "# <\n",
    "print(1 < 1) # esto es falso."
   ]
  },
  {
   "cell_type": "markdown",
   "metadata": {},
   "source": [
    "### El uso de bucles de tipo **for**.\n",
    "\n",
    "Esto es lo último que aprenderemos hoy, y es una de las maneras que tenemos de recorrer objetos en cuyo contenido puede ser más de un elemento por la naturaleza de su tipo, como en este caso, las listas.\n",
    "\n",
    "Para ello usaremos la siguiente sintaxis:\n",
    "\n",
    "```python\n",
    "for elemento in lista:\n",
    "    print(elemento)\n",
    "```\n",
    "\n",
    "Donde **elemento** es el nombre _temporal_ de nuestra variable donde recuperamos el valor del elemento de la lista actual y **lista** nuestra variable con un objeto de tipo list.\n",
    "\n",
    "Como podeís comprobar, es igual de necesario  añadir los dos puntos al final de nuestra variable y tabular el bloque de código que se ejecuta en bucle para que python sepa que todo ese código se ha de ejecutar tantas veces como elementos haya en la lista.\n",
    "\n",
    "En este caso hemos utilizado la función **print()** dentro del bucle pero podemos realizar cualquier fragmento de código que deseemos.\n",
    "\n",
    "Veamos un par de ejemplos sobre nuestras variables **x** e **y**:"
   ]
  },
  {
   "cell_type": "code",
   "execution_count": 1,
   "metadata": {},
   "outputs": [
    {
     "name": "stdout",
     "output_type": "stream",
     "text": [
      "1\n",
      "2\n",
      "True\n"
     ]
    }
   ],
   "source": [
    "x = [1, \"2\", True] # esto es una lista de 3 elementos. Un int, un str y un bool\n",
    "for objeto in x: # x = [1, \"2\", True]\n",
    "    print(objeto)"
   ]
  },
  {
   "cell_type": "markdown",
   "metadata": {},
   "source": [
    "### Los bucles del tipo **while**.\n",
    "A diferencia de los bucles de tipo for, los bucles del tipo while se ejecutan mientras se cumple una condición. Dado que en algún momento nuestro buclea ha de finalizar deberemos actualizar la variable que se comprueba en la condición:\n",
    "\n",
    "La forma de utilizarlos es la siguiente:"
   ]
  },
  {
   "cell_type": "code",
   "execution_count": null,
   "metadata": {},
   "outputs": [],
   "source": [
    "# veamos un ejemplo donde deseamos imprimir los números menores que 5.\n",
    "i = 0 # inicializamos nuestra variable\n",
    "while i<5: # utilizamos la palabra while y una expresión de las que devuelven un tipo bool\n",
    "    print(i) # ejecutamos la acción deseada, en este caso un print\n",
    "    i = i + 1 # y actualizamos nuestra variable, ya que si no, este bucle nunca terminaría"
   ]
  },
  {
   "cell_type": "markdown",
   "metadata": {},
   "source": [
    "## Función range()\n",
    "* Devuelve un rango sobre el que poder iterar con un for, el rango serán todos los números naturales anteriores al número pasado por parámetro.\n",
    "* Si pasamos dos parámetros, el primero será el comienzo del rango, y el segundo hasta donde llega sin incluirlo.\n",
    "* Podemos usarlo con tres parámetros, en este caso el tercer parámetro es el salto entre cada elemento del rango devuelto."
   ]
  },
  {
   "cell_type": "markdown",
   "metadata": {},
   "source": [
    "## List Comprehension.\n",
    "Con List Comprehension podemos crear una lista desde una iteración en una sola línea\n",
    "La síntaxis es algo como esto:\n",
    "(opcionalmente se puede añadir una condición)\n",
    "* variable-recibe_lista = \\[ elemento-a-incluir **for** elemento **in** rango **if** condición \\]  \n",
    "El elemento se incluirá sólo si se cumple la condición"
   ]
  },
  {
   "cell_type": "code",
   "execution_count": 7,
   "metadata": {},
   "outputs": [
    {
     "name": "stdout",
     "output_type": "stream",
     "text": [
      "[0, 2, 4, 6, 8, 10, 12, 14, 16, 18]\n"
     ]
    }
   ],
   "source": [
    "print([num for num in range(0, 20, 2)])"
   ]
  },
  {
   "cell_type": "markdown",
   "metadata": {},
   "source": [
    "### Los operadores lógicos.\n",
    "Son operadores que evalúan elementos del tipo **bool**.\n",
    "\n",
    "* and: Evalúa dos elementos y devuelve True si el valor de ambos es True. En caso contratio devuelve False.\n",
    "* or: Evalúa dos elementos y devuelve True si el valor de al menos uno de ellos es True. En caso contratio devuelve False.\n",
    "* not: Evalúa un único elemento y devuelve la negación del mismo. Es decir, si es True, devuelve False y viceversa."
   ]
  },
  {
   "cell_type": "code",
   "execution_count": 2,
   "metadata": {},
   "outputs": [
    {
     "name": "stdout",
     "output_type": "stream",
     "text": [
      "True\n",
      "False\n",
      "False\n",
      "False\n",
      "-----\n",
      "True\n",
      "False\n"
     ]
    }
   ],
   "source": [
    "# resultados del operador and.\n",
    "print(True and True)\n",
    "print(True and False)\n",
    "print(False and True)\n",
    "print(False and False)\n",
    "\n",
    "print(\"-----\")\n",
    "\n",
    "# recordad que los operadores condicionales devuelven elementos del tipo bool,\n",
    "# por lo que podemos hacer esto:\n",
    "print(1==1 and 2==2) # ambas condiciones son True y por ello and devuelve True\n",
    "print(1==2 and 3==3) # una condición se cumple y la otra no y por ello and devuelve False"
   ]
  },
  {
   "cell_type": "markdown",
   "metadata": {},
   "source": [
    "### El operador de membresía in.\n",
    "El operador in es el operador que nos indica si un elemento en particular pertenece a una colección, como por ejemplo, una lista.\n",
    "\n",
    "En caso afirmativo devuelve True y en el contrario devuelve False.\n",
    "\n",
    "Veamos:"
   ]
  },
  {
   "cell_type": "code",
   "execution_count": 4,
   "metadata": {},
   "outputs": [
    {
     "name": "stdout",
     "output_type": "stream",
     "text": [
      "True\n",
      "True\n",
      "False\n",
      "False\n",
      "-----\n",
      "False\n",
      "False\n"
     ]
    }
   ],
   "source": [
    "x = [1, 2, 3, 4, 5]\n",
    "print(1 in x) # esto es True ya que 1 es el primer elemento de la lista.\n",
    "print(3 in x) # esto es True también\n",
    "print(6 in x) # esto es False\n",
    "print(\"a\" in x) # esto es False. \n",
    "# Recordad que todos los elementos de una lista no tenían por que ser del mismo tipo.\n",
    "\n",
    "print(\"-----\")\n",
    "\n",
    "# recordad que los operadores anteriores se evalúan sobre elementos del tipo bool y\n",
    "# por ello podríamos hacer esto:\n",
    "print(1 not in x)\n",
    "print(not 1 in x) # esto tambíen se puede hacer, pero la manera correcta es la de encima"
   ]
  },
  {
   "cell_type": "markdown",
   "metadata": {},
   "source": [
    "### El usos de diccionarios. El tipo **dict()** y la función **get()**.\n",
    "De manera similar a lo que entendemos por un diccionario tradicional, este es un tipo de objeto que dada una clave (key) nos devuelve un valor (value).\n",
    "\n",
    "Se suelen utilizar para contar el número de veces que aparece una palabra en un texto determinado. En este caso la palabra sería la clave y el número de veces que aparece el valor.\n",
    "\n",
    "No obstante, podemos utilizarlo para un sin fin de casuísticas.\n",
    "\n",
    "Para recuperar el valor de una clave en concreto, utilizaremos la función **get()**.\n",
    "\n",
    "Veamos como crear un diccionario y algunos ejemplos de uso:"
   ]
  },
  {
   "cell_type": "code",
   "execution_count": 6,
   "metadata": {},
   "outputs": [],
   "source": [
    "# En este ejemplo, simularemos un listín telefónico\n",
    "# Para crear un diccionario, hacemos uso de la siguiente sintaxis\n",
    "listin = {\n",
    "    \"Pedro\": \"666 222 123\",\n",
    "    \"Jose\": \"655 444 000\"\n",
    "}"
   ]
  },
  {
   "cell_type": "code",
   "execution_count": 7,
   "metadata": {},
   "outputs": [
    {
     "name": "stdout",
     "output_type": "stream",
     "text": [
      "Número de Pedro: 666 222 123\n",
      "Número de Jose: 655 444 000\n"
     ]
    }
   ],
   "source": [
    "# Ahora consultemos el número de Pedro, de Jose\n",
    "print(\"Número de Pedro:\", listin.get(\"Pedro\"))\n",
    "print(\"Número de Jose:\", listin.get(\"Jose\"))"
   ]
  },
  {
   "cell_type": "code",
   "execution_count": 8,
   "metadata": {},
   "outputs": [
    {
     "name": "stdout",
     "output_type": "stream",
     "text": [
      "Número de Juan: None\n"
     ]
    }
   ],
   "source": [
    "# Ahora consultemos el número de Juan\n",
    "print(\"Número de Juan:\", listin.get(\"Juan\"))"
   ]
  },
  {
   "cell_type": "code",
   "execution_count": 9,
   "metadata": {},
   "outputs": [
    {
     "name": "stdout",
     "output_type": "stream",
     "text": [
      "Número de Juan: No tengo ese dato\n"
     ]
    }
   ],
   "source": [
    "# No obstante, le podemos decir a get() que si no encuentra la clave, nos devuelva un valor por defecto\n",
    "# de esta manera\n",
    "print(\"Número de Juan:\", listin.get(\"Juan\", \"No tengo ese dato\"))"
   ]
  },
  {
   "cell_type": "markdown",
   "metadata": {},
   "source": [
    "### El uso de librerías. La librería **random**. La función **randint()**.\n",
    "\n",
    "- ¿Qué es una librería?\n",
    "\n",
    "Una librería es un código ya creado que podemos importar en nuestro código para utilizar. Para ello, se utiliza la palabra reservada **import** y por conveniencia, se realizan todos los imports necesario al inicio de nuestro código.\n",
    "\n",
    "Python viene con librerías preinstaladas pero además encontraremos una infinidad de ellas en [PyPi](https://pypi.org/) así como su documentación y como instalarla (que es tan siemple como utilizar la sentencia pip install seguida del nombre de la librería).\n",
    "\n",
    "- La librería **random**.\n",
    "\n",
    "Como su propio nombre indica, la librería random nos permite generar elementos de manera aleatoria. Para poder utilizarla, incluiremos este código al principio del nuestro:\n",
    "```python\n",
    "import random\n",
    "```\n",
    "\n",
    "- La función **randint()**.\n",
    "\n",
    "La función randint() es aquella que dada 2 elementos x, y del tipo int (de ahí su nombre) nos devuelve un valor n tal que x <= n <= y.\n",
    "\n",
    "Veamos algunos ejemplos:"
   ]
  },
  {
   "cell_type": "code",
   "execution_count": 10,
   "metadata": {},
   "outputs": [
    {
     "name": "stdout",
     "output_type": "stream",
     "text": [
      "3\n"
     ]
    }
   ],
   "source": [
    "# Lo primero, como hemos comentado, importar la libreria\n",
    "# solo hace falta importarla una vez, no es necesario hacerlo en cada celda que lo usemos\n",
    "import random\n",
    "# Ahora veamos algunos ejemplos. Cada vez que ejecutes esta celda, dará valores distintos\n",
    "print(random.randint(0, 4)) # esto genera un número entre 0 y 4 (incluidos) y lo imprime"
   ]
  },
  {
   "cell_type": "code",
   "execution_count": 13,
   "metadata": {},
   "outputs": [
    {
     "name": "stdout",
     "output_type": "stream",
     "text": [
      "b\n"
     ]
    }
   ],
   "source": [
    "# podemos utilizar la funcion randint() para tomar un valor aleatorio de una lista de opciones\n",
    "opciones = [\"a\", \"b\", \"c\"]\n",
    "final = len(opciones) - 1\n",
    "eleccion = random.randint(0, final)\n",
    "print(opciones[eleccion])"
   ]
  },
  {
   "cell_type": "markdown",
   "metadata": {},
   "source": [
    "### Como crear funciones.\n",
    "\n",
    "Si vamos a utlizar un código varias veces, por simplicidad y para evitar errores, podemos crear una función que realice ese código.\n",
    "\n",
    "Para ello utilizaremos la palabra reservada **def**.\n",
    "\n",
    "El cuerpo de nuestra función ha de ser de la siguiente manera:\n",
    "```python\n",
    "def mi_funcion(p1, p2, ...):\n",
    "    # código de mi función\n",
    "    return lo_que_devuelve_mi_funcion\n",
    "```\n",
    "\n",
    "Dónde p1, p2, etc. son todos los parámetros que necesitamos para realizar nuesta función.\n",
    "\n",
    "Veamos un par de ejemplos:"
   ]
  },
  {
   "cell_type": "code",
   "execution_count": 14,
   "metadata": {},
   "outputs": [],
   "source": [
    "# esta funcion devuelve la suma de n1 y n2\n",
    "def suma(n1, n2):\n",
    "    return n1 + n2"
   ]
  },
  {
   "cell_type": "code",
   "execution_count": 15,
   "metadata": {},
   "outputs": [
    {
     "name": "stdout",
     "output_type": "stream",
     "text": [
      "3\n",
      "30\n"
     ]
    }
   ],
   "source": [
    "# para usarla solo tenemos que llamarla con los valores que deseemos\n",
    "print(suma(1, 2)) # esto imprime 3\n",
    "\n",
    "x = suma(10, 20)\n",
    "print(x) # esto imprime x, que es el resultado de sumar 10 y 20"
   ]
  },
  {
   "cell_type": "code",
   "execution_count": null,
   "metadata": {},
   "outputs": [],
   "source": []
  }
 ],
 "metadata": {
  "kernelspec": {
   "display_name": "Python 3",
   "language": "python",
   "name": "python3"
  },
  "language_info": {
   "codemirror_mode": {
    "name": "ipython",
    "version": 3
   },
   "file_extension": ".py",
   "mimetype": "text/x-python",
   "name": "python",
   "nbconvert_exporter": "python",
   "pygments_lexer": "ipython3",
   "version": "3.6.9"
  }
 },
 "nbformat": 4,
 "nbformat_minor": 4
}
