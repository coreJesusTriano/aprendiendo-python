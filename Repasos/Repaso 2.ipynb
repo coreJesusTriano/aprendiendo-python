{
 "cells": [
  {
   "cell_type": "markdown",
   "metadata": {},
   "source": [
    "# Repaso 2\n",
    "\n",
    "## Enunciado\n",
    "\n",
    "Crea un programa para jugar al [Master Mind](https://es.wikipedia.org/wiki/Mastermind) teniendo en cuenta que:\n",
    "- Utilizaremos números en vez de colores por simplicidad.\n",
    "- El jugador elegirá la dificultad entre 2 y 6, correspondiendose este número con la longitud de la lista de números a adivinar.\n",
    "- Si el jugador desea salir, podrá escribir \"**exit**\" para dejar de jugar."
   ]
  },
  {
   "cell_type": "markdown",
   "metadata": {},
   "source": [
    "Cómo las reglas se pueden interpretar de varias maneras, vamos a tratar de fijar unas comunes para todos:\n",
    "\n",
    "Tomaremos como referencia el ejemplo de la wikipedia:\n",
    "\n",
    "```python\n",
    "jugada_a_adivinar = [0, 1, 2, 0]\n",
    "```\n",
    "\n",
    "1. El resultado de cada jugada fallida, ha de ser del tipo \"X negras, Y blancas\" siendo **negras** el número de fichas correctas en su correcta posición y **blancas** el número de fichas correctas en posición incorrecta. Por ejemplo, estas han de ser las salidas para las siguientes jugadas:\n",
    "    1. [1, 1, 1, 1] -> 1 negras, 3 blancas\n",
    "    2. [0, 0, 0, 0] -> 2 negras, 2 blancas\n",
    "    3. [1, 2, 1, 2] -> 0 negras, 4 blancas\n",
    "    4. [4, 5, 6, 7] -> 0 negras, 0 blancas\n",
    "    5. [0, 5, 6, 7] -> 1 negras, 0 blancas\n",
    "    6. [4, 5, 6, 1] -> 0 negras, 1 blancas\n",
    "\n",
    "Es decir, se marcará como \"ficha correcta fuera de posición\" aquella ficha que a pesar de que en su posicón haya una ficha correcta no lo esté.\n",
    "\n",
    "2. El usuario tiene tantos intentos como necesite para completar el juego. Solo terminará si así lo desea o si acierta la combinación.\n",
    "\n",
    "3. El programa ha de ser a prueba de bombas, es decir, que si el jugador es un canalla, no se pueda salir con la suya. Por ejemplo, si quiere jugar con 4 números, que no meta jugadas de 5. Tampoco jugadas que no sean números, etc...\n",
    "\n",
    "4. Muestra siempre en cualquier caso la última jugada del jugador para que pueda seguir las pistas.\n",
    "\n",
    "5. Eres totalmente libre de implementar el código como desees. En la variedad está el gusto. No obstante, la sencillez prima por encima de todo."
   ]
  },
  {
   "cell_type": "markdown",
   "metadata": {},
   "source": [
    "## Solución\n",
    "\n",
    "Os dejo un ejemplo de las salidas que debería devolver si la combinación fuese [9, 4, 5, 9]\n",
    "```python\n",
    "Escribe tu jugada:  9159\n",
    "[9, 1, 5, 9] negras: 3 blancas: 0\n",
    "Escribe tu jugada:  4995\n",
    "[4, 9, 9, 5] negras: 0 blancas: 4\n",
    "Escribe tu jugada:  4444\n",
    "[4, 4, 4, 4] negras: 1 blancas: 3\n",
    "Escribe tu jugada:  9459\n",
    "Enhorabuena, has ganado! [9, 4, 5, 9]\n",
    "```"
   ]
  }
 ],
 "metadata": {
  "kernelspec": {
   "display_name": "Python 3",
   "language": "python",
   "name": "python3"
  },
  "language_info": {
   "codemirror_mode": {
    "name": "ipython",
    "version": 3
   },
   "file_extension": ".py",
   "mimetype": "text/x-python",
   "name": "python",
   "nbconvert_exporter": "python",
   "pygments_lexer": "ipython3",
   "version": "3.7.2"
  }
 },
 "nbformat": 4,
 "nbformat_minor": 4
}
